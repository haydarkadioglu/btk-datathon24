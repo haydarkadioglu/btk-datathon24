{
 "cells": [
  {
   "cell_type": "code",
   "execution_count": 59,
   "metadata": {},
   "outputs": [],
   "source": [
    "import pandas as pd\n",
    "import numpy as np"
   ]
  },
  {
   "cell_type": "code",
   "execution_count": 60,
   "metadata": {},
   "outputs": [],
   "source": [
    "data = pd.read_csv(\"datathon-2024/clean-test-data-v1.csv\")\n",
    "data = data.apply(lambda col: col.str.upper() if col.dtype == 'object' else col)\n",
    "\n"
   ]
  },
  {
   "cell_type": "code",
   "execution_count": 73,
   "metadata": {},
   "outputs": [
    {
     "name": "stderr",
     "output_type": "stream",
     "text": [
      "C:\\Users\\ahayd\\AppData\\Local\\Temp\\ipykernel_12808\\118248068.py:1: DtypeWarning: Columns (13,15,19,30,32,37,41,42) have mixed types. Specify dtype option on import or set low_memory=False.\n",
      "  org_data = pd.read_csv('datathon-2024/train.csv')\n"
     ]
    }
   ],
   "source": [
    "org_data = pd.read_csv('datathon-2024/train.csv')\n",
    "new_data = pd.read_csv('datathon-2024/tag-data.csv')"
   ]
  },
  {
   "cell_type": "code",
   "execution_count": 72,
   "metadata": {},
   "outputs": [],
   "source": [
    "# data.to_csv(\"datathon-2024/clean-data-v3.csv\", index=False)"
   ]
  },
  {
   "cell_type": "code",
   "execution_count": 141,
   "metadata": {},
   "outputs": [
    {
     "name": "stderr",
     "output_type": "stream",
     "text": [
      "C:\\Users\\ahayd\\AppData\\Local\\Temp\\ipykernel_16356\\243285885.py:1: DtypeWarning: Columns (13,15,19,30,32,37,41,42) have mixed types. Specify dtype option on import or set low_memory=False.\n",
      "  org = pd.read_csv(\"datathon-2024/train.csv\")\n"
     ]
    }
   ],
   "source": [
    "org = pd.read_csv(\"datathon-2024/train.csv\")"
   ]
  },
  {
   "cell_type": "code",
   "execution_count": 74,
   "metadata": {},
   "outputs": [],
   "source": [
    "# data[\"Degerlendirme Puani\"] = org[\"Degerlendirme Puani\"]\n",
    "# data[\"Basvuru Yili\"] = org[\"Basvuru Yili\"]"
   ]
  },
  {
   "cell_type": "code",
   "execution_count": 4,
   "metadata": {},
   "outputs": [],
   "source": [
    "new_data = pd.DataFrame()"
   ]
  },
  {
   "cell_type": "code",
   "execution_count": 115,
   "metadata": {},
   "outputs": [
    {
     "data": {
      "text/html": [
       "<div>\n",
       "<style scoped>\n",
       "    .dataframe tbody tr th:only-of-type {\n",
       "        vertical-align: middle;\n",
       "    }\n",
       "\n",
       "    .dataframe tbody tr th {\n",
       "        vertical-align: top;\n",
       "    }\n",
       "\n",
       "    .dataframe thead th {\n",
       "        text-align: right;\n",
       "    }\n",
       "</style>\n",
       "<table border=\"1\" class=\"dataframe\">\n",
       "  <thead>\n",
       "    <tr style=\"text-align: right;\">\n",
       "      <th></th>\n",
       "    </tr>\n",
       "  </thead>\n",
       "  <tbody>\n",
       "  </tbody>\n",
       "</table>\n",
       "</div>"
      ],
      "text/plain": [
       "Empty DataFrame\n",
       "Columns: []\n",
       "Index: []"
      ]
     },
     "execution_count": 115,
     "metadata": {},
     "output_type": "execute_result"
    }
   ],
   "source": [
    "new_data"
   ]
  },
  {
   "cell_type": "markdown",
   "metadata": {},
   "source": [
    "# Kullanılan Fonksiyonlar\n"
   ]
  },
  {
   "cell_type": "code",
   "execution_count": 6,
   "metadata": {},
   "outputs": [],
   "source": [
    "def normalize_names(names):\n",
    "    if pd.isna(names):\n",
    "        return names\n",
    "    \n",
    "    # Türkçe karakterleri İngilizce karşılıklarına çeviriyoruz\n",
    "    replacements = {\n",
    "        'Ç': 'C', 'Ş': 'S', 'Ğ': 'G', 'Ü': 'U', 'Ö': 'O', 'İ': 'I', 'ı': 'I', 'ç': 'C', 'ş': 'S', 'ğ': 'G', 'ü': 'U', 'ö': 'O', 'i': 'I'\n",
    "    }\n",
    "    \n",
    "    # Şehir adını büyük harfe çevirip Türkçe karakterleri dönüştürüyoruz\n",
    "    name_normalized = names.strip().upper()\n",
    "    for turkish_char, english_char in replacements.items():\n",
    "        name_normalized = name_normalized.replace(turkish_char, english_char)\n",
    "    \n",
    "    return name_normalized\n",
    "\n",
    "def label_names(df, column_name, file_name):\n",
    "\n",
    "    \n",
    "\n",
    "    # Kolonun değerlerini normalize ederek temizleyin\n",
    "    df[column_name] = df[column_name].astype(str).str.strip().str.upper()\n",
    "    \n",
    "    # Benzersiz şehirler ve etiket numaralarını oluşturuyoruz\n",
    "    unique_cities = df[column_name].unique()\n",
    "    city_labels = {city: i + 1 for i, city in enumerate(sorted(set(unique_cities))) if city != ''}\n",
    "    \n",
    "    # Şehirsizler için 0 etiketi ekliyoruz (bu örnekte yok ama ekleyebiliriz)\n",
    "    # city_labels['NONE'] = 0  \n",
    "    \n",
    "    # Şehirler için etiket numaraları oluşturuyoruz\n",
    "    new_df = df[column_name].map(city_labels)\n",
    "\n",
    "    # Etiketleri ayrı bir CSV dosyasına kaydediyoruz\n",
    "    labels_df = pd.DataFrame(list(city_labels.items()), columns=[f'{column_name}', 'Label'])\n",
    "    labels_df.to_csv(f'labels/{file_name}_labels.csv', index=False)\n",
    "\n",
    "    return new_df"
   ]
  },
  {
   "cell_type": "code",
   "execution_count": 78,
   "metadata": {},
   "outputs": [
    {
     "data": {
      "text/html": [
       "<div>\n",
       "<style scoped>\n",
       "    .dataframe tbody tr th:only-of-type {\n",
       "        vertical-align: middle;\n",
       "    }\n",
       "\n",
       "    .dataframe tbody tr th {\n",
       "        vertical-align: top;\n",
       "    }\n",
       "\n",
       "    .dataframe thead th {\n",
       "        text-align: right;\n",
       "    }\n",
       "</style>\n",
       "<table border=\"1\" class=\"dataframe\">\n",
       "  <thead>\n",
       "    <tr style=\"text-align: right;\">\n",
       "      <th></th>\n",
       "      <th>Ikametgah Sehri</th>\n",
       "      <th>Universite Adi</th>\n",
       "      <th>Bölüm</th>\n",
       "      <th>Lise Bolumu</th>\n",
       "      <th>Basvuru Yili</th>\n",
       "      <th>Degerlendirme Puani</th>\n",
       "      <th>Dogum Tarihi</th>\n",
       "      <th>Universite Turu</th>\n",
       "      <th>Universite Kacinci Sinif</th>\n",
       "      <th>Universite Not Ortalamasi</th>\n",
       "      <th>...</th>\n",
       "      <th>Profesyonel Bir Spor Daliyla Mesgul musunuz?</th>\n",
       "      <th>Aktif olarak bir STK üyesi misiniz?</th>\n",
       "      <th>Stk Projesine Katildiniz Mi?</th>\n",
       "      <th>Girisimcilikle Ilgili Deneyiminiz Var Mi?</th>\n",
       "      <th>Ingilizce Biliyor musunuz?</th>\n",
       "      <th>Ingilizce Seviyeniz?</th>\n",
       "      <th>id</th>\n",
       "      <th>Cinsiyet</th>\n",
       "      <th>Yas</th>\n",
       "      <th>city_label</th>\n",
       "    </tr>\n",
       "  </thead>\n",
       "  <tbody>\n",
       "    <tr>\n",
       "      <th>0</th>\n",
       "      <td>ANKARA</td>\n",
       "      <td>IHSAN DOGRAMACI BILKENT</td>\n",
       "      <td>BILGISAYAR MUHENDISLIGI</td>\n",
       "      <td>MF</td>\n",
       "      <td>2014</td>\n",
       "      <td>52.0</td>\n",
       "      <td>1994-04-06 00:00:00</td>\n",
       "      <td>ÖZEL</td>\n",
       "      <td>3</td>\n",
       "      <td>3.50-3</td>\n",
       "      <td>...</td>\n",
       "      <td>EVET</td>\n",
       "      <td>HAYIR</td>\n",
       "      <td>EVET</td>\n",
       "      <td>HAYIR</td>\n",
       "      <td>NaN</td>\n",
       "      <td>NaN</td>\n",
       "      <td>0.0</td>\n",
       "      <td>ERKEK</td>\n",
       "      <td>20.0</td>\n",
       "      <td>14</td>\n",
       "    </tr>\n",
       "    <tr>\n",
       "      <th>1</th>\n",
       "      <td>ISTANBUL</td>\n",
       "      <td>IHSAN DOGRAMACI BILKENT</td>\n",
       "      <td>ELEKTRIK ELEKTRONIK MUHENDISLIGI</td>\n",
       "      <td>MF</td>\n",
       "      <td>2014</td>\n",
       "      <td>30.0</td>\n",
       "      <td>1993-06-11 00:00:00</td>\n",
       "      <td>ÖZEL</td>\n",
       "      <td>3</td>\n",
       "      <td>3.00-2.50</td>\n",
       "      <td>...</td>\n",
       "      <td>HAYIR</td>\n",
       "      <td>HAYIR</td>\n",
       "      <td>EVET</td>\n",
       "      <td>EVET</td>\n",
       "      <td>NaN</td>\n",
       "      <td>NaN</td>\n",
       "      <td>1.0</td>\n",
       "      <td>ERKEK</td>\n",
       "      <td>21.0</td>\n",
       "      <td>81</td>\n",
       "    </tr>\n",
       "    <tr>\n",
       "      <th>2</th>\n",
       "      <td>ISTANBUL</td>\n",
       "      <td>ULUSLARARASI KIBRIS UNIVERSITESI</td>\n",
       "      <td>FINANS YONETIMI VE PAZARLAMA</td>\n",
       "      <td>ELEKTIRK</td>\n",
       "      <td>2014</td>\n",
       "      <td>18.0</td>\n",
       "      <td>1986-01-15 00:00:00</td>\n",
       "      <td>ÖZEL</td>\n",
       "      <td>1</td>\n",
       "      <td>NaN</td>\n",
       "      <td>...</td>\n",
       "      <td>HAYIR</td>\n",
       "      <td>HAYIR</td>\n",
       "      <td>HAYIR</td>\n",
       "      <td>HAYIR</td>\n",
       "      <td>NaN</td>\n",
       "      <td>NaN</td>\n",
       "      <td>2.0</td>\n",
       "      <td>ERKEK</td>\n",
       "      <td>28.0</td>\n",
       "      <td>81</td>\n",
       "    </tr>\n",
       "    <tr>\n",
       "      <th>3</th>\n",
       "      <td>ISTANBUL</td>\n",
       "      <td>ISTANBUL SEHIR UNIVERSITESI</td>\n",
       "      <td>BILGISAYAR MUHENDISLIGI</td>\n",
       "      <td>SAYISAL</td>\n",
       "      <td>2014</td>\n",
       "      <td>40.0</td>\n",
       "      <td>1991-06-04 00:00:00</td>\n",
       "      <td>ÖZEL</td>\n",
       "      <td>3</td>\n",
       "      <td>3.00-2.50</td>\n",
       "      <td>...</td>\n",
       "      <td>HAYIR</td>\n",
       "      <td>HAYIR</td>\n",
       "      <td>EVET</td>\n",
       "      <td>HAYIR</td>\n",
       "      <td>NaN</td>\n",
       "      <td>NaN</td>\n",
       "      <td>3.0</td>\n",
       "      <td>ERKEK</td>\n",
       "      <td>23.0</td>\n",
       "      <td>81</td>\n",
       "    </tr>\n",
       "    <tr>\n",
       "      <th>4</th>\n",
       "      <td>ANKARA</td>\n",
       "      <td>TURGUT OZAL UNIVERSITESI</td>\n",
       "      <td>SIYASET BILIMI VE ULUSLARARASI ILISKILER</td>\n",
       "      <td>TM</td>\n",
       "      <td>2014</td>\n",
       "      <td>24.0</td>\n",
       "      <td>?</td>\n",
       "      <td>ÖZEL</td>\n",
       "      <td>NaN</td>\n",
       "      <td>3.00-2.50</td>\n",
       "      <td>...</td>\n",
       "      <td>HAYIR</td>\n",
       "      <td>HAYIR</td>\n",
       "      <td>HAYIR</td>\n",
       "      <td>HAYIR</td>\n",
       "      <td>NaN</td>\n",
       "      <td>NaN</td>\n",
       "      <td>4.0</td>\n",
       "      <td>ERKEK</td>\n",
       "      <td>NaN</td>\n",
       "      <td>14</td>\n",
       "    </tr>\n",
       "  </tbody>\n",
       "</table>\n",
       "<p>5 rows × 30 columns</p>\n",
       "</div>"
      ],
      "text/plain": [
       "  Ikametgah Sehri                    Universite Adi  \\\n",
       "0          ANKARA           IHSAN DOGRAMACI BILKENT   \n",
       "1        ISTANBUL           IHSAN DOGRAMACI BILKENT   \n",
       "2        ISTANBUL  ULUSLARARASI KIBRIS UNIVERSITESI   \n",
       "3        ISTANBUL       ISTANBUL SEHIR UNIVERSITESI   \n",
       "4          ANKARA          TURGUT OZAL UNIVERSITESI   \n",
       "\n",
       "                                      Bölüm Lise Bolumu  Basvuru Yili  \\\n",
       "0                   BILGISAYAR MUHENDISLIGI          MF          2014   \n",
       "1          ELEKTRIK ELEKTRONIK MUHENDISLIGI          MF          2014   \n",
       "2              FINANS YONETIMI VE PAZARLAMA    ELEKTIRK          2014   \n",
       "3                   BILGISAYAR MUHENDISLIGI     SAYISAL          2014   \n",
       "4  SIYASET BILIMI VE ULUSLARARASI ILISKILER          TM          2014   \n",
       "\n",
       "   Degerlendirme Puani         Dogum Tarihi Universite Turu  \\\n",
       "0                 52.0  1994-04-06 00:00:00            ÖZEL   \n",
       "1                 30.0  1993-06-11 00:00:00            ÖZEL   \n",
       "2                 18.0  1986-01-15 00:00:00            ÖZEL   \n",
       "3                 40.0  1991-06-04 00:00:00            ÖZEL   \n",
       "4                 24.0                    ?            ÖZEL   \n",
       "\n",
       "  Universite Kacinci Sinif Universite Not Ortalamasi  ...  \\\n",
       "0                        3                    3.50-3  ...   \n",
       "1                        3                 3.00-2.50  ...   \n",
       "2                        1                       NaN  ...   \n",
       "3                        3                 3.00-2.50  ...   \n",
       "4                      NaN                 3.00-2.50  ...   \n",
       "\n",
       "  Profesyonel Bir Spor Daliyla Mesgul musunuz?  \\\n",
       "0                                         EVET   \n",
       "1                                        HAYIR   \n",
       "2                                        HAYIR   \n",
       "3                                        HAYIR   \n",
       "4                                        HAYIR   \n",
       "\n",
       "  Aktif olarak bir STK üyesi misiniz? Stk Projesine Katildiniz Mi?  \\\n",
       "0                               HAYIR                         EVET   \n",
       "1                               HAYIR                         EVET   \n",
       "2                               HAYIR                        HAYIR   \n",
       "3                               HAYIR                         EVET   \n",
       "4                               HAYIR                        HAYIR   \n",
       "\n",
       "  Girisimcilikle Ilgili Deneyiminiz Var Mi? Ingilizce Biliyor musunuz?  \\\n",
       "0                                     HAYIR                        NaN   \n",
       "1                                      EVET                        NaN   \n",
       "2                                     HAYIR                        NaN   \n",
       "3                                     HAYIR                        NaN   \n",
       "4                                     HAYIR                        NaN   \n",
       "\n",
       "  Ingilizce Seviyeniz?   id Cinsiyet   Yas city_label  \n",
       "0                  NaN  0.0    ERKEK  20.0         14  \n",
       "1                  NaN  1.0    ERKEK  21.0         81  \n",
       "2                  NaN  2.0    ERKEK  28.0         81  \n",
       "3                  NaN  3.0    ERKEK  23.0         81  \n",
       "4                  NaN  4.0    ERKEK   NaN         14  \n",
       "\n",
       "[5 rows x 30 columns]"
      ]
     },
     "execution_count": 78,
     "metadata": {},
     "output_type": "execute_result"
    }
   ],
   "source": [
    "data.head(5)"
   ]
  },
  {
   "cell_type": "markdown",
   "metadata": {},
   "source": [
    "Ikametgah Sehirleri Etiketleme"
   ]
  },
  {
   "cell_type": "code",
   "execution_count": 117,
   "metadata": {},
   "outputs": [],
   "source": [
    "cities_list = [\n",
    "    'ADANA', 'ADIYAMAN', 'AFYONKARAHİSAR', 'AĞRI', 'AMASYA', 'ANKARA', 'ANTALYA', 'ARTVİN', \n",
    "    'AYDIN', 'BALIKESİR', 'BİLECİK', 'BİNGÖL', 'BİTLİS', 'BOLU', 'BURDUR', 'BURSA', 'ÇANAKKALE', \n",
    "    'ÇANKIRI', 'ÇORUM', 'DENİZLİ', 'DİYARBAKIR', 'EDİRNE', 'ELAZIĞ', 'ERZİNCAN', 'ERZURUM', \n",
    "    'ESKİŞEHİR', 'GAZİANTEP', 'GİRESUN', 'GÜMÜŞHANE', 'HAKKARİ', 'HATAY', 'ISPARTA', 'MERSİN', \n",
    "    'İSTANBUL', 'İZMİR', 'KARS', 'KASTAMONU', 'KAYSERİ', 'KIRKLARELİ', 'KIRŞEHİR', 'KOCAELİ', \n",
    "    'KONYA', 'KÜTAHYA', 'MALATYA', 'MANİSA', 'KAHRAMANMARAŞ', 'MARDİN', 'MUĞLA', 'MUŞ', 'NEVŞEHİR', \n",
    "    'NİĞDE', 'ORDU', 'RİZE', 'SAKARYA', 'SAMSUN', 'SİİRT', 'SİNOP', 'SİVAS', 'TEKİRDAĞ', \n",
    "    'TOKAT', 'TRABZON', 'TUNCELİ', 'ŞANLIURFA', 'UŞAK', 'VAN', 'YOZGAT', 'ZONGULDAK', \n",
    "    'AKSARAY', 'BAYBURT', 'KARAMAN', 'KIRIKKALE', 'BATMAN', 'ŞIRNAK', 'BARTIN', 'ARDAHAN', \n",
    "    'IĞDIR', 'YALOVA', 'KARABÜK', 'KİLİS', 'OSMANİYE', 'DÜZCE'\n",
    "]\n"
   ]
  },
  {
   "cell_type": "code",
   "execution_count": 118,
   "metadata": {},
   "outputs": [],
   "source": [
    "# Şehir-ilçe ayrımını yapmak için \"/\" işareti ile ayırıyoruz\n",
    "data['split_sehir'] = data['Ikametgah Sehri'].astype(str).str.split('/')\n",
    "\n",
    "# Şehir ismini şehir listesiyle kontrol eden fonksiyon\n",
    "def get_correct_city(parts, city_list):\n",
    "    part_1 = parts[0].strip().upper()  # \"/\" öncesi\n",
    "    part_2 = parts[1].strip().upper() if len(parts) > 1 else ''  # \"/\" sonrası (eğer varsa)\n",
    "    \n",
    "    # İlk veya ikinci kısmı şehir listesinde arıyoruz\n",
    "    if part_1 in city_list:\n",
    "        return part_1\n",
    "    elif part_2 in city_list:\n",
    "        return part_2\n",
    "    else:\n",
    "        return parts[0]  # Eğer 81 il listesinde değilse olduğu gibi bırakıyoruz\n",
    "\n",
    "# Doğru şehri buluyoruz\n",
    "data['Ikametgah Sehri'] = data['split_sehir'].apply(lambda x: get_correct_city(x, cities_list))\n",
    "\n",
    "# Geçici split_sehir kolonunu temizliyoruz\n",
    "data.drop(columns=['split_sehir'], inplace=True)\n",
    "\n",
    "# Sonuçları gösterelim\n"
   ]
  },
  {
   "cell_type": "code",
   "execution_count": 119,
   "metadata": {},
   "outputs": [
    {
     "name": "stdout",
     "output_type": "stream",
     "text": [
      "Ikametgah Sehri\n",
      "ISTANBUL      3301\n",
      "ANKARA        1132\n",
      "IZMIR          509\n",
      "DIYARBAKIR     327\n",
      "HATAY          325\n",
      "              ... \n",
      "SINOP           11\n",
      "CANKIRI         10\n",
      "BARTIN           9\n",
      "GUMUSHANE        8\n",
      "ARDAHAN          6\n",
      "Name: count, Length: 83, dtype: int64\n"
     ]
    }
   ],
   "source": [
    "\n",
    "\n",
    "# Şehir kolonunu normalize ediyoruz\n",
    "data['Ikametgah Sehri'] = data['Ikametgah Sehri'].apply(normalize_names)\n",
    "\n",
    "# Sonuçları gösterelim\n",
    "print(data['Ikametgah Sehri'].value_counts())\n"
   ]
  },
  {
   "cell_type": "markdown",
   "metadata": {},
   "source": [
    "# şehir etiketleme"
   ]
  },
  {
   "cell_type": "code",
   "execution_count": 120,
   "metadata": {},
   "outputs": [],
   "source": [
    "\n",
    "\n",
    "\n",
    "# Etiketleme işlemini uygulayalım\n",
    "new_data[\"Sehir Tag\"] = label_names(data, \"Ikametgah Sehri\", \"city\")\n",
    "\n"
   ]
  },
  {
   "cell_type": "code",
   "execution_count": 83,
   "metadata": {},
   "outputs": [],
   "source": [
    "# new_data.to_csv(\"datathon-2024/tag-test-data.csv\", index=False)"
   ]
  },
  {
   "cell_type": "markdown",
   "metadata": {},
   "source": [
    "okul ismi normalize"
   ]
  },
  {
   "cell_type": "code",
   "execution_count": 7,
   "metadata": {},
   "outputs": [
    {
     "name": "stdout",
     "output_type": "stream",
     "text": [
      "Universite Adi\n",
      "ISTANBUL UNIVERSITESI                  2572\n",
      "MARMARA UNIVERSITESI                   2084\n",
      "ISTANBUL TEKNIK UNIVERSITESI           1954\n",
      "YILDIZ TEKNIK UNIVERSITESI             1916\n",
      "ORTA DOGU TEKNIK UNIVERSITESI          1658\n",
      "                                       ... \n",
      "BARD COLLEGE                              1\n",
      "HARP AKADEMILERI (KARA, DENIZ,            1\n",
      "BROWN UNIVERSITY                          1\n",
      "AVRUPA MESLEK YUKSEKOKULU                 1\n",
      "MILLI SAVUNMA UNIVERSITESI (ASKERÎ)       1\n",
      "Name: count, Length: 294, dtype: int64\n"
     ]
    }
   ],
   "source": [
    "\n",
    "# kolonunu normalize ediyoruz\n",
    "data['Universite Adi'] = data['Universite Adi'].apply(normalize_names)\n",
    "\n",
    "# Sonuçları gösterelim\n",
    "print(data['Universite Adi'].value_counts())"
   ]
  },
  {
   "cell_type": "code",
   "execution_count": 19,
   "metadata": {},
   "outputs": [
    {
     "ename": "KeyError",
     "evalue": "<class 'str'>",
     "output_type": "error",
     "traceback": [
      "\u001b[1;31m---------------------------------------------------------------------------\u001b[0m",
      "\u001b[1;31mKeyError\u001b[0m                                  Traceback (most recent call last)",
      "\u001b[1;32m~\\AppData\\Local\\Temp\\ipykernel_17064\\2367681900.py\u001b[0m in \u001b[0;36m?\u001b[1;34m()\u001b[0m\n\u001b[0;32m      1\u001b[0m \u001b[0muni_names\u001b[0m \u001b[1;33m=\u001b[0m \u001b[0mdata\u001b[0m\u001b[1;33m[\u001b[0m\u001b[1;34m'Universite Adi'\u001b[0m\u001b[1;33m]\u001b[0m\u001b[1;33m.\u001b[0m\u001b[0munique\u001b[0m\u001b[1;33m(\u001b[0m\u001b[1;33m)\u001b[0m\u001b[1;33m\u001b[0m\u001b[1;33m\u001b[0m\u001b[0m\n\u001b[1;32m----> 2\u001b[1;33m \u001b[0muni_names\u001b[0m \u001b[1;33m=\u001b[0m \u001b[1;33m(\u001b[0m\u001b[0mpd\u001b[0m\u001b[1;33m.\u001b[0m\u001b[0mDataFrame\u001b[0m\u001b[1;33m(\u001b[0m\u001b[0muni_names\u001b[0m\u001b[1;33m)\u001b[0m\u001b[1;33m)\u001b[0m\u001b[1;33m.\u001b[0m\u001b[0msort_values\u001b[0m\u001b[1;33m(\u001b[0m\u001b[0mby\u001b[0m\u001b[1;33m=\u001b[0m\u001b[0mstr\u001b[0m\u001b[1;33m)\u001b[0m\u001b[1;33m.\u001b[0m\u001b[0mreset_index\u001b[0m\u001b[1;33m(\u001b[0m\u001b[0mdrop\u001b[0m\u001b[1;33m=\u001b[0m\u001b[1;32mTrue\u001b[0m\u001b[1;33m)\u001b[0m\u001b[1;33m\u001b[0m\u001b[1;33m\u001b[0m\u001b[0m\n\u001b[0m",
      "\u001b[1;32m~\\AppData\\Roaming\\Python\\Python312\\site-packages\\pandas\\core\\frame.py\u001b[0m in \u001b[0;36m?\u001b[1;34m(self, by, axis, ascending, inplace, kind, na_position, ignore_index, key)\u001b[0m\n\u001b[0;32m   7185\u001b[0m             \u001b[1;33m)\u001b[0m\u001b[1;33m\u001b[0m\u001b[1;33m\u001b[0m\u001b[0m\n\u001b[0;32m   7186\u001b[0m         \u001b[1;32melif\u001b[0m \u001b[0mlen\u001b[0m\u001b[1;33m(\u001b[0m\u001b[0mby\u001b[0m\u001b[1;33m)\u001b[0m\u001b[1;33m:\u001b[0m\u001b[1;33m\u001b[0m\u001b[1;33m\u001b[0m\u001b[0m\n\u001b[0;32m   7187\u001b[0m             \u001b[1;31m# len(by) == 1\u001b[0m\u001b[1;33m\u001b[0m\u001b[1;33m\u001b[0m\u001b[0m\n\u001b[0;32m   7188\u001b[0m \u001b[1;33m\u001b[0m\u001b[0m\n\u001b[1;32m-> 7189\u001b[1;33m             \u001b[0mk\u001b[0m \u001b[1;33m=\u001b[0m \u001b[0mself\u001b[0m\u001b[1;33m.\u001b[0m\u001b[0m_get_label_or_level_values\u001b[0m\u001b[1;33m(\u001b[0m\u001b[0mby\u001b[0m\u001b[1;33m[\u001b[0m\u001b[1;36m0\u001b[0m\u001b[1;33m]\u001b[0m\u001b[1;33m,\u001b[0m \u001b[0maxis\u001b[0m\u001b[1;33m=\u001b[0m\u001b[0maxis\u001b[0m\u001b[1;33m)\u001b[0m\u001b[1;33m\u001b[0m\u001b[1;33m\u001b[0m\u001b[0m\n\u001b[0m\u001b[0;32m   7190\u001b[0m \u001b[1;33m\u001b[0m\u001b[0m\n\u001b[0;32m   7191\u001b[0m             \u001b[1;31m# need to rewrap column in Series to apply key function\u001b[0m\u001b[1;33m\u001b[0m\u001b[1;33m\u001b[0m\u001b[0m\n\u001b[0;32m   7192\u001b[0m             \u001b[1;32mif\u001b[0m \u001b[0mkey\u001b[0m \u001b[1;32mis\u001b[0m \u001b[1;32mnot\u001b[0m \u001b[1;32mNone\u001b[0m\u001b[1;33m:\u001b[0m\u001b[1;33m\u001b[0m\u001b[1;33m\u001b[0m\u001b[0m\n",
      "\u001b[1;32m~\\AppData\\Roaming\\Python\\Python312\\site-packages\\pandas\\core\\generic.py\u001b[0m in \u001b[0;36m?\u001b[1;34m(self, key, axis)\u001b[0m\n\u001b[0;32m   1907\u001b[0m             \u001b[0mvalues\u001b[0m \u001b[1;33m=\u001b[0m \u001b[0mself\u001b[0m\u001b[1;33m.\u001b[0m\u001b[0mxs\u001b[0m\u001b[1;33m(\u001b[0m\u001b[0mkey\u001b[0m\u001b[1;33m,\u001b[0m \u001b[0maxis\u001b[0m\u001b[1;33m=\u001b[0m\u001b[0mother_axes\u001b[0m\u001b[1;33m[\u001b[0m\u001b[1;36m0\u001b[0m\u001b[1;33m]\u001b[0m\u001b[1;33m)\u001b[0m\u001b[1;33m.\u001b[0m\u001b[0m_values\u001b[0m\u001b[1;33m\u001b[0m\u001b[1;33m\u001b[0m\u001b[0m\n\u001b[0;32m   1908\u001b[0m         \u001b[1;32melif\u001b[0m \u001b[0mself\u001b[0m\u001b[1;33m.\u001b[0m\u001b[0m_is_level_reference\u001b[0m\u001b[1;33m(\u001b[0m\u001b[0mkey\u001b[0m\u001b[1;33m,\u001b[0m \u001b[0maxis\u001b[0m\u001b[1;33m=\u001b[0m\u001b[0maxis\u001b[0m\u001b[1;33m)\u001b[0m\u001b[1;33m:\u001b[0m\u001b[1;33m\u001b[0m\u001b[1;33m\u001b[0m\u001b[0m\n\u001b[0;32m   1909\u001b[0m             \u001b[0mvalues\u001b[0m \u001b[1;33m=\u001b[0m \u001b[0mself\u001b[0m\u001b[1;33m.\u001b[0m\u001b[0maxes\u001b[0m\u001b[1;33m[\u001b[0m\u001b[0maxis\u001b[0m\u001b[1;33m]\u001b[0m\u001b[1;33m.\u001b[0m\u001b[0mget_level_values\u001b[0m\u001b[1;33m(\u001b[0m\u001b[0mkey\u001b[0m\u001b[1;33m)\u001b[0m\u001b[1;33m.\u001b[0m\u001b[0m_values\u001b[0m\u001b[1;33m\u001b[0m\u001b[1;33m\u001b[0m\u001b[0m\n\u001b[0;32m   1910\u001b[0m         \u001b[1;32melse\u001b[0m\u001b[1;33m:\u001b[0m\u001b[1;33m\u001b[0m\u001b[1;33m\u001b[0m\u001b[0m\n\u001b[1;32m-> 1911\u001b[1;33m             \u001b[1;32mraise\u001b[0m \u001b[0mKeyError\u001b[0m\u001b[1;33m(\u001b[0m\u001b[0mkey\u001b[0m\u001b[1;33m)\u001b[0m\u001b[1;33m\u001b[0m\u001b[1;33m\u001b[0m\u001b[0m\n\u001b[0m\u001b[0;32m   1912\u001b[0m \u001b[1;33m\u001b[0m\u001b[0m\n\u001b[0;32m   1913\u001b[0m         \u001b[1;31m# Check for duplicates\u001b[0m\u001b[1;33m\u001b[0m\u001b[1;33m\u001b[0m\u001b[0m\n\u001b[0;32m   1914\u001b[0m         \u001b[1;32mif\u001b[0m \u001b[0mvalues\u001b[0m\u001b[1;33m.\u001b[0m\u001b[0mndim\u001b[0m \u001b[1;33m>\u001b[0m \u001b[1;36m1\u001b[0m\u001b[1;33m:\u001b[0m\u001b[1;33m\u001b[0m\u001b[1;33m\u001b[0m\u001b[0m\n",
      "\u001b[1;31mKeyError\u001b[0m: <class 'str'>"
     ]
    }
   ],
   "source": [
    "uni_names = data['Universite Adi'].unique()\n"
   ]
  },
  {
   "cell_type": "code",
   "execution_count": 16,
   "metadata": {},
   "outputs": [
    {
     "data": {
      "text/plain": [
       "array(['IHSAN DOGRAMACI BILKENT', 'ULUSLARARASI KIBRIS UNIVERSITESI',\n",
       "       'ISTANBUL SEHIR UNIVERSITESI', 'TURGUT OZAL UNIVERSITESI',\n",
       "       'ISTANBUL TICARET UNIVERSITESI', 'ISTANBUL MEDIPOL UNIVERSITESI',\n",
       "       'FATIH SULTAN MEHMET VAKIF', 'BAHCESEHIR UNIVERSITESI',\n",
       "       'NUH NACI YAZGAN UNIVERSITESI', 'FATIH UNIVERSITESI',\n",
       "       'BASKENT UNIVERSITESI', 'CAG UNIVERSITESI', 'IZMIR UNIVERSITESI',\n",
       "       'ZIRVE UNIVERSITESI', 'YASAR UNIVERSITESI',\n",
       "       'ISTANBUL AREL UNIVERSITESI', 'TED UNIVERSITESI',\n",
       "       'YENI YUZYIL UNIVERSITESI', 'IZMIR EKONOMI UNIVERSITESI',\n",
       "       'ISTANBUL BILGI UNIVERSITESI', 'ISTANBUL GELISIM UNIVERSITESI',\n",
       "       'BEYKENT UNIVERSITESI', 'AVRASYA UNIVERSITESI',\n",
       "       'OKAN UNIVERSITESI', 'KOC UNIVERSITESI', 'HALIC UNIVERSITESI',\n",
       "       'ISIK UNIVERSITESI', 'ATILIM UNIVERSITESI',\n",
       "       'NISANTASI UNIVERSITESI', 'ISTANBUL AYDIN UNIVERSITESI',\n",
       "       'UFUK UNIVERSITESI', 'SABANCI UNIVERSITESI',\n",
       "       'ISTANBUL 29 MAYIS UNIVERSITESI', 'MALTEPE UNIVERSITESI',\n",
       "       'ULUSLARARASI ANTALYA UNIVERSITESI', 'TOBB EKONOMI VE TEKNOLOJI',\n",
       "       'KTO KARATAY UNIVERSITESI', 'CANKAYA UNIVERSITESI',\n",
       "       'ISTANBUL KULTUR UNIVERSITESI', 'YEDITEPE UNIVERSITESI',\n",
       "       'GIRNE AMERIKAN UNIVERSITESI', 'HASAN KALYONCU UNIVERSITESI',\n",
       "       'USKUDAR UNIVERSITESI', 'MELIKSAH UNIVERSITESI',\n",
       "       'CANIK BASARI UNIVERSITESI', 'KADIR HAS UNIVERSITESI',\n",
       "       'ISTANBUL ESENYURT UNIVERSITESI', 'ISTANBUL KAVRAM MESLEK',\n",
       "       'ISTANBUL KEMERBURGAZ UNIVERSITESI', 'YAKIN DOGU UNIVERSITESI',\n",
       "       'GEDIZ UNIVERSITESI', 'GEDIK UNIVERSITESI',\n",
       "       'ISTANBUL BILIM UNIVERSITESI', 'SIFA UNIVERSITESI',\n",
       "       'OZYEGIN UNIVERSITESI', 'TOROS UNIVERSITESI',\n",
       "       'PIRI REIS UNIVERSITESI', 'DOGU AKDENIZ UNIVERSITESI',\n",
       "       'ULUDAG UNIVERSITESI', 'BURSA ORHANGAZI UNIVERSITESI',\n",
       "       'GIRESUN UNIVERSITESI', 'DOGUS UNIVERSITESI',\n",
       "       'BEYKOZ LOJISTIK MESLEK', 'TURK HAVA KURUMU UNIVERSITESI',\n",
       "       'HACETTEPE UNIVERSITESI', 'ISTANBUL SABAHATTIN ZAIM',\n",
       "       'BOGAZICI UNIVERSITESI', 'MEVLANA UNIVERSITESI',\n",
       "       'OSMANIYE KORKUT ATA UNIVERSITESI', 'LEFKE AVRUPA UNIVERSITESI',\n",
       "       'ORTA DOGU TEKNIK UNIVERSITESI', 'AMASYA UNIVERSITESI',\n",
       "       'KOCAELI UNIVERSITESI', 'FIRAT UNIVERSITESI',\n",
       "       'ACIBADEM UNIVERSITESI', 'SULEYMAN SAH UNIVERSITESI',\n",
       "       'MEF UNIVERSITESI', 'PLATO MESLEK YUKSEKOKULU',\n",
       "       'ANADOLU UNIVERSITESI', 'IPEK UNIVERSITESI',\n",
       "       'ABANT IZZET BAYSAL UNIVERSITESI', 'ISTANBUL UNIVERSITESI',\n",
       "       'ALANYA HAMDULLAH EMIN PASA', 'BEZM-I ALEM VAKIF UNIVERSITESI',\n",
       "       'RECEP TAYYIP ERDOGAN UNIVERSITESI', 'CUKUROVA UNIVERSITESI',\n",
       "       'BALIKESIR UNIVERSITESI', 'IHSAN DOGRAMACI BILKENT UNIVERSITESI',\n",
       "       'ISTANBUL TEKNIK UNIVERSITESI',\n",
       "       'ISTANBUL SABAHATTIN ZAIM UNIVERSITESI',\n",
       "       'ISTANBUL KAVRAM MESLEK YUKSEKOKULU',\n",
       "       'TOBB EKONOMI VE TEKNOLOJI UNIVERSITESI', 'MERSIN UNIVERSITESI',\n",
       "       'BIRUNI UNIVERSITESI', 'KAFKAS UNIVERSITESI',\n",
       "       'AGRI IBRAHIM CECEN UNIVERSITESI', 'YILDIRIM BEYAZIT UNIVERSITESI',\n",
       "       'ANKARA UNIVERSITESI', 'GAZI UNIVERSITESI', 'MARMARA UNIVERSITESI',\n",
       "       'CANAKKALE ONSEKIZ MART', 'DICLE UNIVERSITESI',\n",
       "       'SAKARYA UNIVERSITESI', 'SULEYMAN DEMIREL UNIVERSITESI',\n",
       "       'DUMLUPINAR UNIVERSITESI', 'KIRKLARELI UNIVERSITESI',\n",
       "       'BAYBURT UNIVERSITESI', 'ONDOKUZ MAYIS UNIVERSITESI',\n",
       "       'BULENT ECEVIT UNIVERSITESI', 'GAZIOSMANPASA UNIVERSITESI',\n",
       "       'KARADENIZ TEKNIK UNIVERSITESI', 'DIGER',\n",
       "       'NAMIK KEMAL UNIVERSITESI', 'CANKIRI KARATEKIN UNIVERSITESI',\n",
       "       'KARABUK UNIVERSITESI', 'MEHMET AKIF ERSOY UNIVERSITESI',\n",
       "       'ERZINCAN UNIVERSITESI', 'SIIRT UNIVERSITESI',\n",
       "       'TURK-ALMAN UNIVERSITESI', 'TRAKYA UNIVERSITESI',\n",
       "       'NECMETTIN ERBAKAN UNIVERSITESI', 'SINOP UNIVERSITESI',\n",
       "       'KASTAMONU UNIVERSITESI', 'YILDIZ TEKNIK UNIVERSITESI',\n",
       "       'ATATURK UNIVERSITESI', 'ADNAN MENDERES UNIVERSITESI',\n",
       "       'IZMIR KATIP CELEBI UNIVERSITESI', 'CELAL BAYAR UNIVERSITESI',\n",
       "       'USAK UNIVERSITESI', 'MUGLA SITKI KOCMAN UNIVERSITESI',\n",
       "       'ERCIYES UNIVERSITESI', 'AKDENIZ UNIVERSITESI',\n",
       "       'GAZIANTEP UNIVERSITESI', 'MUSTAFA KEMAL UNIVERSITESI',\n",
       "       'YUZUNCU YIL UNIVERSITESI', 'ESKISEHIR OSMANGAZI UNIVERSITESI',\n",
       "       'BINGOL UNIVERSITESI', 'AKSARAY UNIVERSITESI', 'EGE UNIVERSITESI',\n",
       "       'KONYA TARIM VE GIDA UNIVERSITESI', 'GUMUSHANE UNIVERSITESI',\n",
       "       'PAMUKKALE UNIVERSITESI', 'ABDULLAH GUL UNIVERSITESI',\n",
       "       'SELCUK UNIVERSITESI', 'GALATASARAY UNIVERSITESI',\n",
       "       'BILECIK SEYH EDEBALI UNIVERSITESI', 'MARDIN ARTUKLU UNIVERSITESI',\n",
       "       'CUMHURIYET UNIVERSITESI', 'ISTANBUL MEDENIYET UNIVERSITESI',\n",
       "       'ADIYAMAN UNIVERSITESI', 'KAHRAMANMARAS SUTCU IMAM',\n",
       "       'DOKUZ EYLUL UNIVERSITESI', 'YALOVA UNIVERSITESI',\n",
       "       'HARRAN UNIVERSITESI', 'IGDIR UNIVERSITESI',\n",
       "       'MUS ALPARSLAN UNIVERSITESI', 'BURSA TEKNIK UNIVERSITESI',\n",
       "       'GEBZE YUKSEK TEKNOLOJI ENSTITUSU', 'KARAMANOGLU MEHMETBEY', nan,\n",
       "       'TUNCELI UNIVERSITESI', 'SIRNAK UNIVERSITESI',\n",
       "       'NEVSEHIR HACI BEKTAS VELI', 'BOZOK UNIVERSITESI',\n",
       "       'KAPADOKYA MESLEK YUKSEKOKULU', 'ADANA BILIM VE TEKNOLOJI',\n",
       "       'HITIT UNIVERSITESI', 'NIGDE UNIVERSITESI',\n",
       "       'MIMAR SINAN GUZEL SANATLAR', 'INONU UNIVERSITESI',\n",
       "       'BITLIS EREN UNIVERSITESI', 'ARTVIN CORUH UNIVERSITESI',\n",
       "       'AFYON KOCATEPE UNIVERSITESI', 'DUZCE UNIVERSITESI',\n",
       "       'BARTIN UNIVERSITESI', 'KIRIKKALE UNIVERSITESI',\n",
       "       'ERZINCAN BINALI YILDIRIM UNIVERSITESI',\n",
       "       'HATAY MUSTAFA KEMAL UNIVERSITESI',\n",
       "       'FATIH SULTAN MEHMET VAKIF UNIVERSITESI', 'AYDIN ADNAN MENDERES',\n",
       "       'ISTANBUL GEDIK UNIVERSITESI', 'VAN YUZUNCU YIL UNIVERSITESI',\n",
       "       'ISTANBUL OKAN UNIVERSITESI',\n",
       "       'MIMAR SINAN GUZEL SANATLAR UNIVERSITESI',\n",
       "       'ACIBADEM MEHMET ALI AYDINLAR UNIVERSITESI',\n",
       "       'TEKIRDAG NAMIK KEMAL UNIVERSITESI', 'ALTINBAS UNIVERSITESI',\n",
       "       'IZMIR YUKSEK TEKNOLOJI ENSTITUSU',\n",
       "       'BEZM-I ÂLEM VAKIF UNIVERSITESI', 'FENERBAHCE UNIVERSITESI',\n",
       "       'SAGLIK BILIMLERI UNIVERSITESI',\n",
       "       'ISTANBUL AYVANSARAY UNIVERSITESI', 'ISTINYE UNIVERSITESI',\n",
       "       'ISTANBUL UNIVERSITESI-', 'IZMIR KAVRAM MESLEK UNIVERSITESI',\n",
       "       'DEMIROGLU BILIM UNIVERSITESI', 'ISTANBUL RUMELI UNIVERSITESI',\n",
       "       'BEYKOZ UNIVERSITESI', 'IBN HALDUN UNIVERSITESI',\n",
       "       'KAPADOKYA UNIVERSITESI', 'IZMIR DEMOKRASI UNIVERSITESI',\n",
       "       'NIGDE OMER HALISDEMIR', 'ISTANBUL KENT UNIVERSITESI',\n",
       "       'BURSA ULUDAG UNIVERSITESI', 'KARAMANOGLU MEHMETBEY UNIVERSITESI',\n",
       "       'KONYA GIDA VE TARIM UNIVERSITESI',\n",
       "       'ZONGULDAK BULENT ECEVIT UNIVERSITESI',\n",
       "       'ESKISEHIR TEKNIK UNIVERSITESI',\n",
       "       'KOCAELI SAGLIK VE TEKNOLOJI UNIVERSITESI',\n",
       "       'KIRSEHIR AHI EVRAN UNIVERSITESI', 'ANKARA MEDIPOL UNIVERSITESI',\n",
       "       'ANKARA YILDIRIM BEYAZIT UNIVERSITESI',\n",
       "       'OSTIM TEKNIK UNIVERSITESI', 'MUNZUR UNIVERSITESI',\n",
       "       'TOKAT GAZIOSMANPASA UNIVERSITESI',\n",
       "       'SIVAS CUMHURIYET UNIVERSITESI', 'KILIS 7 ARALIK UNIVERSITESI',\n",
       "       'CANAKKALE ONSEKIZ MART UNIVERSITESI',\n",
       "       'ANKARA HACI BAYRAM VELI UNIVERSITESI',\n",
       "       'ISTANBUL YENI YUZYIL UNIVERSITESI', 'BATMAN UNIVERSITESI',\n",
       "       'TRABZON UNIVERSITESI', 'ANKARA SOSYAL BILIMLER UNIVERSITESI',\n",
       "       'ISPARTA UYGULAMALI BILIMLER UNIVERSITESI',\n",
       "       'KAHRAMANMARAS SUTCU IMAM UNIVERSITESI',\n",
       "       'MANISA CELÂL BAYAR UNIVERSITESI',\n",
       "       'ISTANBUL SAGLIK VE TEKNOLOJI UNIVERSITESI',\n",
       "       'ISTANBUL SISLI MESLEK UNIVERSITESI', 'ANTALYA AKEV UNIVERSITESI',\n",
       "       'KUTAHYA SAGLIK BILIMLERI UNIVERSITESI',\n",
       "       'ALANYA ALAADDIN KEYKUBAT UNIVERSITESI',\n",
       "       'AFYONKARAHISAR SAGLIK BILIMLERI UNIVERSITESI',\n",
       "       'BANDIRMA ONYEDI EYLUL UNIVERSITESI',\n",
       "       'ISKENDERUN TEKNIK UNIVERSITESI',\n",
       "       'FARUK SARAC TASARIM MESLEK YUKSEKOKULU (ISTANBUL)',\n",
       "       'ARDAHAN UNIVERSITESI', 'ISTANBUL GALATA UNIVERSITESI',\n",
       "       'GEBZE TEKNIK UNIVERSITESI',\n",
       "       'NEVSEHIR HACI BEKTAS VELI UNIVERSITESI', 'SANKO UNIVERSITESI',\n",
       "       'ISTANBUL ATLAS UNIVERSITESI', 'HAKKARI UNIVERSITESI',\n",
       "       'ALANYA HAMDULLAH EMIN PASA UNIVERSITESI',\n",
       "       'YOZGAT BOZOK UNIVERSITESI', 'KUTAHYA DUMLUPINAR UNIVERSITESI',\n",
       "       'LOKMAN HEKIM UNIVERSITESI', 'ANTALYA BILIM UNIVERSITESI',\n",
       "       'ANKARA BILIM UNIVERSITESI', 'IZMIR BAKIRCAY UNIVERSITESI',\n",
       "       'KONYA TEKNIK UNIVERSITESI', 'ADANA ALPARSLAN TURKES BILIM VE',\n",
       "       'YUKSEK IHTISAS UNIVERSITESI', 'ISTANBUL SISLI MESLEK YUKSEKOKULU',\n",
       "       'FARUK SARAC TASARIM MESLEK', 'BEZMIÂLEM UNIVERSITESI',\n",
       "       'SAMSUN UNIVERSITESI', 'IZMIR TINAZTEPE UNIVERSITESI',\n",
       "       'SELAHADDIN EYYUBI UNIVERSITESI', 'AVRUPA MESLEK YUKSEKOKULU',\n",
       "       'ERZURUM TEKNIK UNIVERSITESI',\n",
       "       'BOLU ABANT IZZET BAYSAL UNIVERSITESI',\n",
       "       'SAKARYA UYGULAMALI BILIMLER UNIVERSITESI',\n",
       "       'AKDENIZ KARPAZ UNIVERSITESI', 'KIRGIZISTAN-TURKIYE MANAS',\n",
       "       'AHI EVRAN UNIVERSITESI', 'ORDU UNIVERSITESI',\n",
       "       'HOCA AHMET YESEVI TURK-KAZAK', 'ANKARA SOSYAL BILIMLER',\n",
       "       'POLIS AKADEMISI', 'ADANA BILIM VE TEKNOLOJI UNIVERSITESI',\n",
       "       'HARP AKADEMILERI (KARA, DENIZ,',\n",
       "       'BURDUR MEHMET AKIF ERSOY UNIVERSITESI', 'KAYSERI UNIVERSITESI',\n",
       "       'TARSUS UNIVERSITESI', 'KAHRAMANMARAS ISTIKLAL UNIVERSITESI',\n",
       "       'ANKARA MUZIK VE GUZEL SANATLAR UNIVERSITESI',\n",
       "       'MALATYA TURGUT OZAL UNIVERSITESI',\n",
       "       'GAZIANTEP ISLAM BILIM VE TEKNOLOJI UNIVERSITESI',\n",
       "       'AYDIN ADNAN MENDERES UNIVERSITESI',\n",
       "       'MANISA CELAL BAYAR UNIVERSITESI',\n",
       "       'ADANA ALPARSLAN TURKES BILIM VE TEKNOLOJI UNIVERSITESI',\n",
       "       'ISTANBUL UNIVERSITESI-CERRAHPASA',\n",
       "       'NIGDE OMER HALISDEMIR UNIVERSITESI',\n",
       "       'BEZMIALEM VAKIF UNIVERSITESI', 'BROWN UNIVERSITY',\n",
       "       'UNIVERSITY OF SOUTHERN CALIFORNIA',\n",
       "       'IZMIR KÂTIP CELEBI UNIVERSITESI',\n",
       "       'IZMIR KAVRAM MESLEK YUKSEKOKULU', 'BARD COLLEGE',\n",
       "       'ULUSLARARASI FINAL UNIVERSITESI',\n",
       "       'FATIH SULTAN MEHMET UNIVERSITESI',\n",
       "       'ISTANBUL TOPKAPI UNIVERSITESI',\n",
       "       'ANKARA SOSYAL BILIMLER UNIVERSITESI KUZEY KIBRIS KAMPUSU',\n",
       "       'JANDARMA VE SAHIL GUVENLIK AKADEMISI(ASKERI)',\n",
       "       'MILLI SAVUNMA UNIVERSITESI (ASKERÎ)'], dtype=object)"
      ]
     },
     "execution_count": 16,
     "metadata": {},
     "output_type": "execute_result"
    }
   ],
   "source": [
    "new_data"
   ]
  },
  {
   "cell_type": "code",
   "execution_count": 20,
   "metadata": {},
   "outputs": [],
   "source": [
    "new_data[\"Universite Tag\"] = label_names(data, \"Universite Adi\", \"Universite\")"
   ]
  },
  {
   "cell_type": "code",
   "execution_count": null,
   "metadata": {},
   "outputs": [],
   "source": []
  },
  {
   "cell_type": "markdown",
   "metadata": {},
   "source": [
    "# Bölüm Normalize ve Etiketlendirme"
   ]
  },
  {
   "cell_type": "code",
   "execution_count": 42,
   "metadata": {},
   "outputs": [
    {
     "name": "stdout",
     "output_type": "stream",
     "text": [
      "Bölüm\n",
      "BILGISAYAR MUHENDISLIGI               817\n",
      "ENDUSTRI MUHENDISLIGI                 635\n",
      "TIP                                   456\n",
      "ISLETME                               425\n",
      "HUKUK                                 383\n",
      "                                     ... \n",
      "JAPONCA OGRETMENLIGI                    1\n",
      "ISTATISTIK VE BILGISAYAR BILIMLERI      1\n",
      "FILM TASARIMI VE YAZARLIGI              1\n",
      "ISLETME BILGI YONETIMI                  1\n",
      "ISPANYOL DILI VE EDEBIYATI              1\n",
      "Name: count, Length: 349, dtype: int64\n"
     ]
    }
   ],
   "source": [
    "# kolonunu normalize ediyoruz\n",
    "data['Bölüm'] = data['Bölüm'].apply(normalize_names)\n",
    "\n",
    "# Sonuçları gösterelim\n",
    "print(data['Bölüm'].value_counts())"
   ]
  },
  {
   "cell_type": "code",
   "execution_count": 11,
   "metadata": {},
   "outputs": [],
   "source": [
    "df[\"Bölüm\"] = pd.DataFrame(data[\"Bölüm\"].unique())"
   ]
  },
  {
   "cell_type": "code",
   "execution_count": 39,
   "metadata": {},
   "outputs": [],
   "source": [
    "(pd.DataFrame(df)).to_csv(\"datathon-2024/bolum.csv\", index=False)"
   ]
  },
  {
   "cell_type": "code",
   "execution_count": 43,
   "metadata": {},
   "outputs": [],
   "source": [
    "# new_data[\"Bolum\"] = label_names(data, \"Bölüm\", \"bolum\")\n",
    "new_data = pd.read_csv(\"datathon-2024/tag-test-data.csv\")"
   ]
  },
  {
   "cell_type": "code",
   "execution_count": null,
   "metadata": {},
   "outputs": [],
   "source": [
    "new_data"
   ]
  },
  {
   "cell_type": "code",
   "execution_count": 44,
   "metadata": {},
   "outputs": [],
   "source": [
    "from sklearn.feature_extraction.text import TfidfVectorizer\n",
    "from sklearn.cluster import KMeans\n",
    "\n",
    "# 1. TF-IDF vektörizasyonu (bölüm isimlerini vektörlere dönüştürme)\n",
    "tfidf = TfidfVectorizer(ngram_range=(1, 2))\n",
    "tfidf_matrix = tfidf.fit_transform(data['Bölüm'].fillna('None'))\n",
    "\n",
    "# 2. KMeans kümeleme (kategori sayısını bilmediğimiz için deneme yanılma ile seçilebilir)\n",
    "num_clusters = 100  # Farklı sayılar deneyebilirsiniz\n",
    "kmeans = KMeans(n_clusters=num_clusters, random_state=0)\n",
    "new_data[\"Bolum\"] = kmeans.fit_predict(tfidf_matrix)\n",
    "\n"
   ]
  },
  {
   "cell_type": "code",
   "execution_count": 25,
   "metadata": {},
   "outputs": [
    {
     "ename": "AttributeError",
     "evalue": "'numpy.ndarray' object has no attribute 'value_counts'",
     "output_type": "error",
     "traceback": [
      "\u001b[1;31m---------------------------------------------------------------------------\u001b[0m",
      "\u001b[1;31mAttributeError\u001b[0m                            Traceback (most recent call last)",
      "Cell \u001b[1;32mIn[25], line 6\u001b[0m\n\u001b[0;32m      2\u001b[0m \u001b[38;5;28;01mfrom\u001b[39;00m \u001b[38;5;21;01msklearn\u001b[39;00m\u001b[38;5;21;01m.\u001b[39;00m\u001b[38;5;21;01mdecomposition\u001b[39;00m \u001b[38;5;28;01mimport\u001b[39;00m PCA\n\u001b[0;32m      5\u001b[0m \u001b[38;5;66;03m# Kategorilerin sayısını almak\u001b[39;00m\n\u001b[1;32m----> 6\u001b[0m category_counts \u001b[38;5;241m=\u001b[39m \u001b[43mdf3\u001b[49m\u001b[38;5;241;43m.\u001b[39;49m\u001b[43mvalue_counts\u001b[49m()\u001b[38;5;241m.\u001b[39msort_index()\n\u001b[0;32m      8\u001b[0m \u001b[38;5;66;03m# Bar grafiği oluşturma\u001b[39;00m\n\u001b[0;32m      9\u001b[0m plt\u001b[38;5;241m.\u001b[39mfigure(figsize\u001b[38;5;241m=\u001b[39m(\u001b[38;5;241m8\u001b[39m, \u001b[38;5;241m6\u001b[39m))\n",
      "\u001b[1;31mAttributeError\u001b[0m: 'numpy.ndarray' object has no attribute 'value_counts'"
     ]
    }
   ],
   "source": [
    "import matplotlib.pyplot as plt\n",
    "from sklearn.decomposition import PCA\n",
    "\n",
    "\n",
    "# Kategorilerin sayısını almak\n",
    "category_counts = df3.value_counts().sort_index()\n",
    "\n",
    "# Bar grafiği oluşturma\n",
    "plt.figure(figsize=(8, 6))\n",
    "category_counts.plot(kind='bar', color='skyblue')\n",
    "\n",
    "# Grafik başlığı ve etiketler\n",
    "plt.title(\"Her Kategorideki Bölüm Sayısı\", fontsize=14)\n",
    "plt.xlabel(\"Kategori Numarası\", fontsize=12)\n",
    "plt.ylabel(\"Bölüm Sayısı\", fontsize=12)\n",
    "\n",
    "# Grafik gösterimi\n",
    "plt.show()"
   ]
  },
  {
   "cell_type": "code",
   "execution_count": 26,
   "metadata": {},
   "outputs": [
    {
     "data": {
      "text/plain": [
       "array([ 4, 40,  3, ...,  3, 92, 55])"
      ]
     },
     "execution_count": 26,
     "metadata": {},
     "output_type": "execute_result"
    }
   ],
   "source": [
    "df3"
   ]
  },
  {
   "cell_type": "markdown",
   "metadata": {},
   "source": [
    "# 2. Okul\n"
   ]
  },
  {
   "cell_type": "code",
   "execution_count": 125,
   "metadata": {},
   "outputs": [
    {
     "name": "stderr",
     "output_type": "stream",
     "text": [
      "C:\\Users\\ahayd\\AppData\\Local\\Temp\\ipykernel_16356\\1954574886.py:1: FutureWarning: Downcasting object dtype arrays on .fillna, .ffill, .bfill is deprecated and will change in a future version. Call result.infer_objects(copy=False) instead. To opt-in to the future behavior, set `pd.set_option('future.no_silent_downcasting', True)`\n",
      "  new_data['ikinci okul'] = (data['Daha Once Baska Bir Universiteden Mezun Olmus'].apply(lambda x: 1 if x == 'EVET' else (0 if x == 'HAYIR' else None))).fillna(0).astype(int)\n"
     ]
    }
   ],
   "source": [
    "new_data['ikinci okul'] = (data['Daha Once Baska Bir Universiteden Mezun Olmus'].apply(lambda x: 1 if x == 'EVET' else (0 if x == 'HAYIR' else None))).fillna(0).astype(int)\n"
   ]
  },
  {
   "cell_type": "code",
   "execution_count": null,
   "metadata": {},
   "outputs": [],
   "source": [
    "data"
   ]
  },
  {
   "cell_type": "markdown",
   "metadata": {},
   "source": [
    "# lise bölümü"
   ]
  },
  {
   "cell_type": "code",
   "execution_count": 126,
   "metadata": {},
   "outputs": [],
   "source": [
    "data[\"Lise Bolumu\"] = data[\"Lise Bolumu\"].apply(normalize_names)"
   ]
  },
  {
   "cell_type": "code",
   "execution_count": 127,
   "metadata": {},
   "outputs": [],
   "source": [
    "new_data[\"lise bolum\"] = label_names(data, \"Lise Bolumu\", \"lise-bolum\")"
   ]
  },
  {
   "cell_type": "code",
   "execution_count": 128,
   "metadata": {},
   "outputs": [
    {
     "name": "stdout",
     "output_type": "stream",
     "text": [
      "Lise Bolumu\n",
      "SAYISAL         6354\n",
      "ESIT AGIRLIK    3224\n",
      "SOZEL           1152\n",
      "DIL              319\n",
      "Name: count, dtype: int64\n"
     ]
    }
   ],
   "source": [
    "print(data['Lise Bolumu'].value_counts())"
   ]
  },
  {
   "cell_type": "markdown",
   "metadata": {},
   "source": [
    "# üni türü"
   ]
  },
  {
   "cell_type": "code",
   "execution_count": 129,
   "metadata": {},
   "outputs": [],
   "source": [
    "new_data[\"Universite Turu\"] = (data[\"Universite Turu\"].apply(lambda x: 1 if x == 'ÖZEL' else (0 if x == 'DEVLET' else None))).fillna(0).astype(int)"
   ]
  },
  {
   "cell_type": "markdown",
   "metadata": {},
   "source": [
    "# Kaçıncı Sınıf"
   ]
  },
  {
   "cell_type": "code",
   "execution_count": 130,
   "metadata": {},
   "outputs": [],
   "source": [
    "def map_class_status(status):\n",
    "    if status == 'HAZIRLIK':\n",
    "        return -1\n",
    "    elif status == 'MEZUN':\n",
    "        return -2\n",
    "    elif status == 'YÜKSEK LISANS':\n",
    "        return -3\n",
    "    elif status == 'TEZ':\n",
    "        return -4\n",
    "    elif pd.isna(status):\n",
    "        return -5  # Opsiyonel: NaN değerler için geri dönüş\n",
    "    else:\n",
    "        return int(status)  # Sayı olarak belirtilmişse dönüştürüyoruz\n",
    "\n",
    "# Fonksiyonu uyguluyoruz\n",
    "new_data['Sinif'] = data[\"Universite Kacinci Sinif\"].apply(map_class_status)\n"
   ]
  },
  {
   "cell_type": "markdown",
   "metadata": {},
   "source": [
    "# Not Ortalaması"
   ]
  },
  {
   "cell_type": "code",
   "execution_count": 131,
   "metadata": {},
   "outputs": [
    {
     "data": {
      "text/plain": [
       "array(['2.50 - 2.99', 'HAZIRLIĞIM', '3.00 - 3.49', '1.80 - 2.49',\n",
       "       '3.50 - 4.00', '0 - 1.79'], dtype=object)"
      ]
     },
     "execution_count": 131,
     "metadata": {},
     "output_type": "execute_result"
    }
   ],
   "source": [
    "data[\"Universite Not Ortalamasi\"].unique()"
   ]
  },
  {
   "cell_type": "code",
   "execution_count": 132,
   "metadata": {},
   "outputs": [],
   "source": [
    "def map_gpa_range(gpa):\n",
    "    if pd.isna(gpa):\n",
    "        return np.nan  # NaN değerler için geri dönüş\n",
    "    elif 'HAZIRLIĞIM' in gpa:\n",
    "        return -1\n",
    "    elif 'NOT ORTALAMASI YOK' in gpa:\n",
    "        return -2\n",
    "    elif 'ORTALAMA BULUNMUYOR' in gpa:\n",
    "        return -3\n",
    "    elif '3.50' in gpa or '4.0' in gpa:\n",
    "        return 1\n",
    "    elif '3.00' in gpa or '3.50' in gpa:\n",
    "        return 2\n",
    "    elif '2.50' in gpa:\n",
    "        return 3\n",
    "    elif '2.00' in gpa:\n",
    "        return 4\n",
    "    elif '1.00' in gpa:\n",
    "        return 5\n",
    "    elif '0' in gpa:\n",
    "        return 6\n",
    "    else:\n",
    "        return 0  # Bilinmeyen durumlar için varsayılan etiket\n",
    "    \n",
    "\n",
    "\n",
    "new_data['Not Ortalamasi'] = (data['Universite Not Ortalamasi'].apply(map_gpa_range)).fillna(0).astype(int)\n"
   ]
  },
  {
   "cell_type": "code",
   "execution_count": 133,
   "metadata": {},
   "outputs": [],
   "source": [
    "labels_description = {\n",
    "    'HAZIRLIĞIM': -1,\n",
    "    'NOT ORTALAMASI YOK': -2,\n",
    "    'ORTALAMA BULUNMUYOR': -3,\n",
    "    '3.50 - 4.00 veya 4.0 - 3.5': 1,\n",
    "    '3.00 veya 3.00 - 3.50': 2,\n",
    "    '2.50 veya 2.50 - 3.00': 3,\n",
    "    '2.00 veya 2.00 - 2.50': 4,\n",
    "    '1.00 veya 1.00 - 2.50': 5,\n",
    "    '0 - 1.79': 6,\n",
    "    'Bilinmeyen veya diğer durumlar': 6\n",
    "}\n",
    "\n",
    "labels_df = pd.DataFrame(list(labels_description.items()), columns=['Description', 'labels'])\n",
    "\n",
    "# Etiket açıklamalarını CSV dosyasına kaydediyoruz\n",
    "labels_df.to_csv('labels/ortalama_labels.csv', index=False)"
   ]
  },
  {
   "cell_type": "code",
   "execution_count": 97,
   "metadata": {},
   "outputs": [],
   "source": [
    "# new_data.to_csv(\"datathon-2024/tag-data.csv\", index=False)"
   ]
  },
  {
   "cell_type": "markdown",
   "metadata": {},
   "source": [
    "# lise türü"
   ]
  },
  {
   "cell_type": "code",
   "execution_count": 134,
   "metadata": {},
   "outputs": [],
   "source": [
    "def label_highschool_types(df, column_name, file_name):\n",
    "    # Liseleri normalize ederek grupluyoruz\n",
    "    df[column_name] = df[column_name].astype(str).str.strip().str.upper()\n",
    "    \n",
    "    # Kategorilere göre etiket numaraları\n",
    "    highschool_labels = {\n",
    "        'ANADOLU LISESI': 1, 'DÜZ LISE': 1, 'DEVLET': 1,\n",
    "        'MESLEK LISESI': 2, 'MESLEK': 2,\n",
    "        'FEN LISESI': 3,\n",
    "        'ÖZEL LISESI': 4, 'ÖZEL LISE': 4, 'ÖZEL': 4,\n",
    "        'DIĞER': 5\n",
    "    }\n",
    "    \n",
    "    # Nan değerler için 0 etiketi ekliyoruz\n",
    "    df[column_name] = df[column_name].replace('nan', pd.NA)  # NaN değerlerini temizle\n",
    "    new_col = df[column_name].map(highschool_labels).fillna(0).astype(int)\n",
    "    \n",
    "    # Etiketleri ayrı bir CSV dosyasına kaydediyoruz\n",
    "    labels_df = pd.DataFrame(list(highschool_labels.items()), columns=['lise tur', 'labels'])\n",
    "    labels_df.to_csv(f'labels/{file_name}_labels.csv', index=False)\n",
    "    \n",
    "    return new_col\n",
    "\n",
    "\n",
    "new_data[\"lise tur\"] =  label_highschool_types(data, 'Lise Turu',  'lise-tur')\n"
   ]
  },
  {
   "cell_type": "code",
   "execution_count": null,
   "metadata": {},
   "outputs": [],
   "source": []
  },
  {
   "cell_type": "markdown",
   "metadata": {},
   "source": [
    "# Ebeveyin Eğitim "
   ]
  },
  {
   "cell_type": "code",
   "execution_count": 135,
   "metadata": {},
   "outputs": [
    {
     "data": {
      "text/plain": [
       "array(['İLKOKUL', 'YÜKSEK LISANS', 'ÜNIVERSITE', 'EĞITIMI YOK', 'LISE',\n",
       "       'ORTAOKUL', 'DOKTORA'], dtype=object)"
      ]
     },
     "execution_count": 135,
     "metadata": {},
     "output_type": "execute_result"
    }
   ],
   "source": [
    "data[\"Anne Egitim Durumu\"].unique()"
   ]
  },
  {
   "cell_type": "code",
   "execution_count": 136,
   "metadata": {},
   "outputs": [
    {
     "data": {
      "text/plain": [
       "array(['ORTAOKUL', 'İLKOKUL', 'ÜNIVERSITE', 'LISE', 'YÜKSEK LISANS',\n",
       "       'DOKTORA', 'EĞITIMI YOK'], dtype=object)"
      ]
     },
     "execution_count": 136,
     "metadata": {},
     "output_type": "execute_result"
    }
   ],
   "source": [
    "data[\"Baba Egitim Durumu\"].unique()"
   ]
  },
  {
   "cell_type": "code",
   "execution_count": 137,
   "metadata": {},
   "outputs": [],
   "source": [
    "import pandas as pd\n",
    "\n",
    "def label_education(df, column_name, file_name):\n",
    "    # Eğitim durumlarını normalize ederek temizleyin\n",
    "    df[column_name] = df[column_name].astype(str).str.strip().str.upper()\n",
    "    \n",
    "    # Eğitim durumlarına göre etiket numaraları\n",
    "    education_labels = {\n",
    "        'ÜNIVERSITE': 1, 'ÜNIVERSITE MEZUNU': 1, 'ÜNİVERSİTE': 1,\n",
    "        'YÜKSEK LISANS / DOKTORA': 2, 'YÜKSEK LISANS / DOKTARA': 2, \n",
    "        'YÜKSEK LISANS': 2, 'YÜKSEK LİSANS': 2, 'DOKTORA': 2,\n",
    "        'LISE': 3, 'LİSE': 3, 'LISE MEZUNU': 3,\n",
    "        'ORTAOKUL MEZUNU': 4, 'ORTAOKUL': 4,\n",
    "        'İLKOKUL MEZUNU': 5, 'İLKOKUL': 5,\n",
    "        'EĞITIM YOK': 6, 'EĞİTİM YOK': 6, 'EĞITIMI YOK': 6,\n",
    "        '0': 6  # Sayısal 0 değerleri için\n",
    "    }\n",
    "    \n",
    "    # Nan değerler için 0 etiketi ekliyoruz\n",
    "    df[column_name] = df[column_name].replace('nan', pd.NA)  # NaN değerlerini temizle\n",
    "    new_column = df[column_name].map(education_labels).fillna(0).astype(int)\n",
    "    \n",
    "    # Etiketleri ayrı bir CSV dosyasına kaydediyoruz\n",
    "    labels_df = pd.DataFrame(list(education_labels.items()), columns=['egitim durum', 'labels'])\n",
    "    labels_df.to_csv(f'{file_name}_labels.csv', index=False)\n",
    "    \n",
    "    return new_column\n",
    "\n",
    "\n",
    "\n",
    "# Anne ve baba eğitim durumlarını etiketleyelim\n",
    "new_data[\"anne egitim\"] = label_education(data, 'Anne Egitim Durumu', 'anne-egitim')\n",
    "new_data[\"baba egitim\"] = label_education(data, 'Baba Egitim Durumu', 'baba-egitim')\n",
    "\n"
   ]
  },
  {
   "cell_type": "markdown",
   "metadata": {},
   "source": [
    "# Ebeveyin Çalışma Durumu"
   ]
  },
  {
   "cell_type": "code",
   "execution_count": 46,
   "metadata": {},
   "outputs": [],
   "source": [
    "org_data = pd.read_csv('datathon-2024/test_x.csv')"
   ]
  },
  {
   "cell_type": "code",
   "execution_count": 47,
   "metadata": {},
   "outputs": [],
   "source": [
    "new_data['anne calisma'] = label_names(org_data, 'Anne Calisma Durumu', 'anne-is')\n",
    "new_data['baba calisma'] = label_names(org_data, 'Baba Calisma Durumu', 'baba-is')\n"
   ]
  },
  {
   "cell_type": "markdown",
   "metadata": {},
   "source": [
    "# Kulüp-STK-Girişim"
   ]
  },
  {
   "cell_type": "code",
   "execution_count": 138,
   "metadata": {},
   "outputs": [
    {
     "name": "stderr",
     "output_type": "stream",
     "text": [
      "C:\\Users\\ahayd\\AppData\\Local\\Temp\\ipykernel_16356\\1324958325.py:6: FutureWarning: Downcasting object dtype arrays on .fillna, .ffill, .bfill is deprecated and will change in a future version. Call result.infer_objects(copy=False) instead. To opt-in to the future behavior, set `pd.set_option('future.no_silent_downcasting', True)`\n",
      "  new_data['stk proje'] = (data['Stk Projesine Katildiniz Mi?'].apply(lambda x: 1 if x == 'EVET' else (0 if x == 'HAYIR' else None))).fillna(0).astype(int)\n"
     ]
    }
   ],
   "source": [
    "\n",
    "# kulüp üyeliği\n",
    "new_data['kulup'] = (data[\"Girisimcilik Kulupleri Tarzi Bir Kulube Uye misiniz?\"].apply(lambda x: 1 if x == 'EVET' else (0 if x == 'HAYIR' else None))).fillna(0).astype(int)\n",
    "\n",
    "\n",
    "#stk projesi\n",
    "new_data['stk proje'] = (data['Stk Projesine Katildiniz Mi?'].apply(lambda x: 1 if x == 'EVET' else (0 if x == 'HAYIR' else None))).fillna(0).astype(int)\n",
    "\n",
    "#girişim\n",
    "new_data['girisim'] = (data['Girisimcilikle Ilgili Deneyiminiz Var Mi?'].apply(lambda x: 1 if x == 'EVET' else (0 if x == 'HAYIR' else None))).fillna(0).astype(int)\n",
    "\n",
    "\n"
   ]
  },
  {
   "cell_type": "code",
   "execution_count": 110,
   "metadata": {},
   "outputs": [],
   "source": [
    "# new_data.to_csv(\"datathon-2024/tag-data.csv\", index=False)"
   ]
  },
  {
   "cell_type": "markdown",
   "metadata": {},
   "source": [
    "# İngilizce Seviye"
   ]
  },
  {
   "cell_type": "code",
   "execution_count": 139,
   "metadata": {},
   "outputs": [],
   "source": [
    "def map_level(status):\n",
    "    if pd.isna(status) or status == '0': return 0\n",
    "    if status == 'BAŞLANGIÇ': return 1\n",
    "    if status == 'ORTA': return 2\n",
    "    if status == 'İLERİ': return 3\n",
    "\n",
    "\n",
    "\n",
    "new_data['ingilizce'] = (data[\"Ingilizce Seviyeniz?\"].apply(map_level)).fillna(0).astype(int)"
   ]
  },
  {
   "cell_type": "markdown",
   "metadata": {},
   "source": [
    "# Cinsiyet"
   ]
  },
  {
   "cell_type": "code",
   "execution_count": 140,
   "metadata": {},
   "outputs": [],
   "source": [
    "new_data['cinsiyet'] = (data['Cinsiyet'].apply(lambda x: 1 if x == 'ERKEK' else (0 if x == 'KADIN' else None))).fillna(1).astype(int)\n"
   ]
  },
  {
   "cell_type": "markdown",
   "metadata": {},
   "source": [
    "düzeltmeler"
   ]
  },
  {
   "cell_type": "code",
   "execution_count": 108,
   "metadata": {},
   "outputs": [],
   "source": [
    "new_data[\"id\"] = org[\"id\"]\n",
    "# new_data[\"puan\"] = org[\"Degerlendirme Puani\"]"
   ]
  },
  {
   "cell_type": "code",
   "execution_count": 109,
   "metadata": {},
   "outputs": [
    {
     "data": {
      "text/html": [
       "<div>\n",
       "<style scoped>\n",
       "    .dataframe tbody tr th:only-of-type {\n",
       "        vertical-align: middle;\n",
       "    }\n",
       "\n",
       "    .dataframe tbody tr th {\n",
       "        vertical-align: top;\n",
       "    }\n",
       "\n",
       "    .dataframe thead th {\n",
       "        text-align: right;\n",
       "    }\n",
       "</style>\n",
       "<table border=\"1\" class=\"dataframe\">\n",
       "  <thead>\n",
       "    <tr style=\"text-align: right;\">\n",
       "      <th></th>\n",
       "      <th>Sehir Tag</th>\n",
       "      <th>Universite Tag</th>\n",
       "      <th>Bolum</th>\n",
       "      <th>ikinci okul</th>\n",
       "      <th>lise bolum</th>\n",
       "      <th>Universite Turu</th>\n",
       "      <th>Sinif</th>\n",
       "      <th>Not Ortalamasi</th>\n",
       "      <th>lise tur</th>\n",
       "      <th>anne egitim</th>\n",
       "      <th>baba egitim</th>\n",
       "      <th>kulup</th>\n",
       "      <th>stk proje</th>\n",
       "      <th>girisim</th>\n",
       "      <th>ingilizce</th>\n",
       "      <th>cinsiyet</th>\n",
       "      <th>id</th>\n",
       "      <th>puan</th>\n",
       "    </tr>\n",
       "  </thead>\n",
       "  <tbody>\n",
       "    <tr>\n",
       "      <th>0</th>\n",
       "      <td>14</td>\n",
       "      <td>126</td>\n",
       "      <td>388</td>\n",
       "      <td>0</td>\n",
       "      <td>342</td>\n",
       "      <td>1</td>\n",
       "      <td>3</td>\n",
       "      <td>1</td>\n",
       "      <td>1</td>\n",
       "      <td>1</td>\n",
       "      <td>1</td>\n",
       "      <td>1</td>\n",
       "      <td>1</td>\n",
       "      <td>0</td>\n",
       "      <td>0</td>\n",
       "      <td>1</td>\n",
       "      <td>0</td>\n",
       "      <td>52.0</td>\n",
       "    </tr>\n",
       "    <tr>\n",
       "      <th>1</th>\n",
       "      <td>81</td>\n",
       "      <td>126</td>\n",
       "      <td>1083</td>\n",
       "      <td>0</td>\n",
       "      <td>342</td>\n",
       "      <td>1</td>\n",
       "      <td>3</td>\n",
       "      <td>2</td>\n",
       "      <td>1</td>\n",
       "      <td>1</td>\n",
       "      <td>2</td>\n",
       "      <td>0</td>\n",
       "      <td>1</td>\n",
       "      <td>1</td>\n",
       "      <td>0</td>\n",
       "      <td>1</td>\n",
       "      <td>1</td>\n",
       "      <td>30.0</td>\n",
       "    </tr>\n",
       "    <tr>\n",
       "      <th>2</th>\n",
       "      <td>81</td>\n",
       "      <td>279</td>\n",
       "      <td>1550</td>\n",
       "      <td>0</td>\n",
       "      <td>131</td>\n",
       "      <td>1</td>\n",
       "      <td>1</td>\n",
       "      <td>0</td>\n",
       "      <td>2</td>\n",
       "      <td>5</td>\n",
       "      <td>5</td>\n",
       "      <td>1</td>\n",
       "      <td>0</td>\n",
       "      <td>0</td>\n",
       "      <td>0</td>\n",
       "      <td>1</td>\n",
       "      <td>2</td>\n",
       "      <td>18.0</td>\n",
       "    </tr>\n",
       "    <tr>\n",
       "      <th>3</th>\n",
       "      <td>81</td>\n",
       "      <td>156</td>\n",
       "      <td>388</td>\n",
       "      <td>0</td>\n",
       "      <td>404</td>\n",
       "      <td>1</td>\n",
       "      <td>3</td>\n",
       "      <td>2</td>\n",
       "      <td>3</td>\n",
       "      <td>5</td>\n",
       "      <td>1</td>\n",
       "      <td>1</td>\n",
       "      <td>1</td>\n",
       "      <td>0</td>\n",
       "      <td>0</td>\n",
       "      <td>1</td>\n",
       "      <td>3</td>\n",
       "      <td>40.0</td>\n",
       "    </tr>\n",
       "    <tr>\n",
       "      <th>4</th>\n",
       "      <td>14</td>\n",
       "      <td>272</td>\n",
       "      <td>4194</td>\n",
       "      <td>0</td>\n",
       "      <td>474</td>\n",
       "      <td>1</td>\n",
       "      <td>-5</td>\n",
       "      <td>2</td>\n",
       "      <td>4</td>\n",
       "      <td>5</td>\n",
       "      <td>1</td>\n",
       "      <td>0</td>\n",
       "      <td>0</td>\n",
       "      <td>0</td>\n",
       "      <td>0</td>\n",
       "      <td>1</td>\n",
       "      <td>4</td>\n",
       "      <td>24.0</td>\n",
       "    </tr>\n",
       "    <tr>\n",
       "      <th>...</th>\n",
       "      <td>...</td>\n",
       "      <td>...</td>\n",
       "      <td>...</td>\n",
       "      <td>...</td>\n",
       "      <td>...</td>\n",
       "      <td>...</td>\n",
       "      <td>...</td>\n",
       "      <td>...</td>\n",
       "      <td>...</td>\n",
       "      <td>...</td>\n",
       "      <td>...</td>\n",
       "      <td>...</td>\n",
       "      <td>...</td>\n",
       "      <td>...</td>\n",
       "      <td>...</td>\n",
       "      <td>...</td>\n",
       "      <td>...</td>\n",
       "      <td>...</td>\n",
       "    </tr>\n",
       "    <tr>\n",
       "      <th>65120</th>\n",
       "      <td>81</td>\n",
       "      <td>136</td>\n",
       "      <td>3386</td>\n",
       "      <td>0</td>\n",
       "      <td>173</td>\n",
       "      <td>1</td>\n",
       "      <td>2</td>\n",
       "      <td>6</td>\n",
       "      <td>1</td>\n",
       "      <td>5</td>\n",
       "      <td>4</td>\n",
       "      <td>0</td>\n",
       "      <td>0</td>\n",
       "      <td>0</td>\n",
       "      <td>0</td>\n",
       "      <td>1</td>\n",
       "      <td>65120</td>\n",
       "      <td>0.0</td>\n",
       "    </tr>\n",
       "    <tr>\n",
       "      <th>65121</th>\n",
       "      <td>117</td>\n",
       "      <td>221</td>\n",
       "      <td>4601</td>\n",
       "      <td>0</td>\n",
       "      <td>173</td>\n",
       "      <td>0</td>\n",
       "      <td>1</td>\n",
       "      <td>-1</td>\n",
       "      <td>1</td>\n",
       "      <td>3</td>\n",
       "      <td>3</td>\n",
       "      <td>0</td>\n",
       "      <td>0</td>\n",
       "      <td>0</td>\n",
       "      <td>0</td>\n",
       "      <td>1</td>\n",
       "      <td>65121</td>\n",
       "      <td>0.0</td>\n",
       "    </tr>\n",
       "    <tr>\n",
       "      <th>65122</th>\n",
       "      <td>115</td>\n",
       "      <td>260</td>\n",
       "      <td>3619</td>\n",
       "      <td>0</td>\n",
       "      <td>404</td>\n",
       "      <td>0</td>\n",
       "      <td>4</td>\n",
       "      <td>6</td>\n",
       "      <td>1</td>\n",
       "      <td>3</td>\n",
       "      <td>3</td>\n",
       "      <td>0</td>\n",
       "      <td>0</td>\n",
       "      <td>0</td>\n",
       "      <td>0</td>\n",
       "      <td>1</td>\n",
       "      <td>65122</td>\n",
       "      <td>0.0</td>\n",
       "    </tr>\n",
       "    <tr>\n",
       "      <th>65123</th>\n",
       "      <td>131</td>\n",
       "      <td>185</td>\n",
       "      <td>4007</td>\n",
       "      <td>0</td>\n",
       "      <td>449</td>\n",
       "      <td>0</td>\n",
       "      <td>3</td>\n",
       "      <td>6</td>\n",
       "      <td>1</td>\n",
       "      <td>5</td>\n",
       "      <td>3</td>\n",
       "      <td>0</td>\n",
       "      <td>0</td>\n",
       "      <td>0</td>\n",
       "      <td>0</td>\n",
       "      <td>1</td>\n",
       "      <td>65123</td>\n",
       "      <td>0.0</td>\n",
       "    </tr>\n",
       "    <tr>\n",
       "      <th>65124</th>\n",
       "      <td>77</td>\n",
       "      <td>106</td>\n",
       "      <td>2326</td>\n",
       "      <td>0</td>\n",
       "      <td>110</td>\n",
       "      <td>0</td>\n",
       "      <td>4</td>\n",
       "      <td>3</td>\n",
       "      <td>1</td>\n",
       "      <td>5</td>\n",
       "      <td>5</td>\n",
       "      <td>0</td>\n",
       "      <td>0</td>\n",
       "      <td>1</td>\n",
       "      <td>0</td>\n",
       "      <td>0</td>\n",
       "      <td>65124</td>\n",
       "      <td>NaN</td>\n",
       "    </tr>\n",
       "  </tbody>\n",
       "</table>\n",
       "<p>65125 rows × 18 columns</p>\n",
       "</div>"
      ],
      "text/plain": [
       "       Sehir Tag  Universite Tag  Bolum  ikinci okul  lise bolum  \\\n",
       "0             14             126    388            0         342   \n",
       "1             81             126   1083            0         342   \n",
       "2             81             279   1550            0         131   \n",
       "3             81             156    388            0         404   \n",
       "4             14             272   4194            0         474   \n",
       "...          ...             ...    ...          ...         ...   \n",
       "65120         81             136   3386            0         173   \n",
       "65121        117             221   4601            0         173   \n",
       "65122        115             260   3619            0         404   \n",
       "65123        131             185   4007            0         449   \n",
       "65124         77             106   2326            0         110   \n",
       "\n",
       "       Universite Turu  Sinif  Not Ortalamasi  lise tur  anne egitim  \\\n",
       "0                    1      3               1         1            1   \n",
       "1                    1      3               2         1            1   \n",
       "2                    1      1               0         2            5   \n",
       "3                    1      3               2         3            5   \n",
       "4                    1     -5               2         4            5   \n",
       "...                ...    ...             ...       ...          ...   \n",
       "65120                1      2               6         1            5   \n",
       "65121                0      1              -1         1            3   \n",
       "65122                0      4               6         1            3   \n",
       "65123                0      3               6         1            5   \n",
       "65124                0      4               3         1            5   \n",
       "\n",
       "       baba egitim  kulup  stk proje  girisim  ingilizce  cinsiyet     id  \\\n",
       "0                1      1          1        0          0         1      0   \n",
       "1                2      0          1        1          0         1      1   \n",
       "2                5      1          0        0          0         1      2   \n",
       "3                1      1          1        0          0         1      3   \n",
       "4                1      0          0        0          0         1      4   \n",
       "...            ...    ...        ...      ...        ...       ...    ...   \n",
       "65120            4      0          0        0          0         1  65120   \n",
       "65121            3      0          0        0          0         1  65121   \n",
       "65122            3      0          0        0          0         1  65122   \n",
       "65123            3      0          0        0          0         1  65123   \n",
       "65124            5      0          0        1          0         0  65124   \n",
       "\n",
       "       puan  \n",
       "0      52.0  \n",
       "1      30.0  \n",
       "2      18.0  \n",
       "3      40.0  \n",
       "4      24.0  \n",
       "...     ...  \n",
       "65120   0.0  \n",
       "65121   0.0  \n",
       "65122   0.0  \n",
       "65123   0.0  \n",
       "65124   NaN  \n",
       "\n",
       "[65125 rows x 18 columns]"
      ]
     },
     "execution_count": 109,
     "metadata": {},
     "output_type": "execute_result"
    }
   ],
   "source": [
    "new_data"
   ]
  },
  {
   "cell_type": "code",
   "execution_count": 142,
   "metadata": {},
   "outputs": [],
   "source": [
    "new_data.to_csv(\"datathon-2024/tag-test-data.csv\")"
   ]
  },
  {
   "cell_type": "code",
   "execution_count": null,
   "metadata": {},
   "outputs": [],
   "source": []
  },
  {
   "cell_type": "markdown",
   "metadata": {},
   "source": [
    "# Doğum Tarihi"
   ]
  },
  {
   "cell_type": "code",
   "execution_count": 50,
   "metadata": {},
   "outputs": [],
   "source": [
    "yas = pd.read_csv('datathon-2024/clean-test-data-yas.csv')"
   ]
  },
  {
   "cell_type": "code",
   "execution_count": 56,
   "metadata": {},
   "outputs": [],
   "source": [
    "# new_data['Yas'] = yas[\"Yas\"]\n",
    "# new_data['Yas'].fillna(21)\n",
    "\n",
    "# new_data['Basvuru Yili'] = 2023"
   ]
  },
  {
   "cell_type": "code",
   "execution_count": null,
   "metadata": {},
   "outputs": [],
   "source": [
    "new_data"
   ]
  },
  {
   "cell_type": "code",
   "execution_count": 53,
   "metadata": {},
   "outputs": [
    {
     "name": "stdout",
     "output_type": "stream",
     "text": [
      "21.2736899266902\n"
     ]
    }
   ],
   "source": [
    "mean_age = yas[\"Yas\"].mean()\n",
    "\n",
    "data[\"Yas\"].fillna(21)\n"
   ]
  },
  {
   "cell_type": "code",
   "execution_count": 37,
   "metadata": {},
   "outputs": [],
   "source": [
    "new_data['yas'] = data[\"Yas\"]\n",
    "new_data['Basvuru Yili'] = data['Basvuru Yili']"
   ]
  },
  {
   "cell_type": "code",
   "execution_count": 58,
   "metadata": {},
   "outputs": [],
   "source": [
    "new_data.to_csv('datathon-2024/tag-test-data.csv', index=False)"
   ]
  },
  {
   "cell_type": "code",
   "execution_count": null,
   "metadata": {},
   "outputs": [],
   "source": []
  },
  {
   "cell_type": "markdown",
   "metadata": {},
   "source": [
    "# kardes Sayısı"
   ]
  },
  {
   "cell_type": "code",
   "execution_count": null,
   "metadata": {},
   "outputs": [],
   "source": [
    "org_data['Kardes Sayisi'].mean()"
   ]
  },
  {
   "cell_type": "code",
   "execution_count": 78,
   "metadata": {},
   "outputs": [],
   "source": [
    "new_data['Kardes Sayisi'] = org_data['Kardes Sayisi'].fillna(1)"
   ]
  },
  {
   "cell_type": "code",
   "execution_count": 80,
   "metadata": {},
   "outputs": [
    {
     "name": "stderr",
     "output_type": "stream",
     "text": [
      "C:\\Users\\ahayd\\AppData\\Local\\Temp\\ipykernel_12808\\459832191.py:1: FutureWarning: ChainedAssignmentError: behaviour will change in pandas 3.0!\n",
      "You are setting values through chained assignment. Currently this works in certain cases, but when using Copy-on-Write (which will become the default behaviour in pandas 3.0) this will never work to update the original DataFrame or Series, because the intermediate object on which we are setting values will behave as a copy.\n",
      "A typical example is when you are setting values in a column of a DataFrame, like:\n",
      "\n",
      "df[\"col\"][row_indexer] = value\n",
      "\n",
      "Use `df.loc[row_indexer, \"col\"] = values` instead, to perform the assignment in a single step and ensure this keeps updating the original `df`.\n",
      "\n",
      "See the caveats in the documentation: https://pandas.pydata.org/pandas-docs/stable/user_guide/indexing.html#returning-a-view-versus-a-copy\n",
      "\n",
      "  new_data['Kardes Sayisi']['Kardeş Sayısı 1 Ek Bilgi Aile Hk. Anne Vefat'] = 1\n",
      "C:\\Users\\ahayd\\AppData\\Local\\Temp\\ipykernel_12808\\459832191.py:1: SettingWithCopyWarning: \n",
      "A value is trying to be set on a copy of a slice from a DataFrame\n",
      "\n",
      "See the caveats in the documentation: https://pandas.pydata.org/pandas-docs/stable/user_guide/indexing.html#returning-a-view-versus-a-copy\n",
      "  new_data['Kardes Sayisi']['Kardeş Sayısı 1 Ek Bilgi Aile Hk. Anne Vefat'] = 1\n"
     ]
    }
   ],
   "source": [
    "new_data['Kardes Sayisi']['Kardeş Sayısı 1 Ek Bilgi Aile Hk. Anne Vefat'] = 1"
   ]
  },
  {
   "cell_type": "code",
   "execution_count": 81,
   "metadata": {},
   "outputs": [],
   "source": [
    "new_data.to_csv('datathon-2024/tag-data.csv',index=False)"
   ]
  },
  {
   "cell_type": "markdown",
   "metadata": {},
   "source": []
  }
 ],
 "metadata": {
  "kernelspec": {
   "display_name": "Python 3",
   "language": "python",
   "name": "python3"
  },
  "language_info": {
   "codemirror_mode": {
    "name": "ipython",
    "version": 3
   },
   "file_extension": ".py",
   "mimetype": "text/x-python",
   "name": "python",
   "nbconvert_exporter": "python",
   "pygments_lexer": "ipython3",
   "version": "3.12.3"
  }
 },
 "nbformat": 4,
 "nbformat_minor": 2
}
